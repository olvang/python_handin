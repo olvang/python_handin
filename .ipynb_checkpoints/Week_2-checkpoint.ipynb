{
 "cells": [
  {
   "cell_type": "markdown",
   "metadata": {},
   "source": [
    "# Week 2 handin"
   ]
  },
  {
   "cell_type": "markdown",
   "metadata": {},
   "source": [
    "## 01 Assignment\n",
    "Here is the text for the assignment linked to"
   ]
  },
  {
   "cell_type": "markdown",
   "metadata": {},
   "source": [
    "# 02 Status\n",
    "#Here is a status on the handin. How far you got. What is implemented and what is not"
   ]
  },
  {
   "cell_type": "markdown",
   "metadata": {},
   "source": [
    "## 02 Solution Exercise 1"
   ]
  },
  {
   "cell_type": "code",
   "execution_count": null,
   "metadata": {},
   "outputs": [],
   "source": [
    "# 1.A: def print_file_content(file) that can print content of a csv file to the console\n",
    "from modules import ex02\n",
    "ex02.print_file_content('./data/country_codes.csv')"
   ]
  },
  {
   "cell_type": "code",
   "execution_count": 4,
   "metadata": {},
   "outputs": [],
   "source": [
    "# 1.B: def write_list_to_file(output_file, lst) that can take a list of tuple and write each element to a new line in file\n",
    "#rewrite the function so that it gets an arbitrary number of strings instead of a list\n",
    "from modules import ex02\n",
    "ex02.write_list_to_file('./output.txt', 'String 1', 'String 2', 'String 3')"
   ]
  },
  {
   "cell_type": "code",
   "execution_count": 5,
   "metadata": {},
   "outputs": [],
   "source": [
    "# 1.C see modules/ex02.py"
   ]
  },
  {
   "cell_type": "markdown",
   "metadata": {},
   "source": [
    "## 02 Solution Exercise 2"
   ]
  },
  {
   "cell_type": "code",
   "execution_count": 1,
   "metadata": {
    "collapsed": true
   },
   "outputs": [
    {
     "name": "stdout",
     "output_type": "stream",
     "text": [
      "output.txt\n",
      "README.md\n",
      "requirements.txt\n",
      "Week_2.ipynb\n",
      "config\n",
      "description\n",
      "HEAD\n",
      "index\n",
      "packed-refs\n",
      "applypatch-msg.sample\n",
      "commit-msg.sample\n",
      "fsmonitor-watchman.sample\n",
      "post-update.sample\n",
      "pre-applypatch.sample\n",
      "pre-commit.sample\n",
      "pre-push.sample\n",
      "pre-rebase.sample\n",
      "pre-receive.sample\n",
      "prepare-commit-msg.sample\n",
      "update.sample\n",
      "exclude\n",
      "HEAD\n",
      "main\n",
      "HEAD\n",
      "30a90937f026e7ede719976dbdf822ae735f0c\n",
      "f27e86d351ae56375e3a44153fba5616af6b63\n",
      "a8043f98842cb91568a6d1150c3aed673b0af2\n",
      "bbd281c990c5456312e1b34c6a2409d0550f60\n",
      "eeb5b215c671ea67a797e8b44153ad1ec9a7b6\n",
      "248deeda75524cbbad083c5481090355251995\n",
      "8de8aba9afe6124cea2b1be20638a6007479d9\n",
      "cbbd6b34b6594f0a3c2b97d4bec5bdcff14c45\n",
      "2f9d01aa6ee3322c8de810270556aa1f23f28a\n",
      "55ad63416458e8184dac19f0259df93ad9aa93\n",
      "85cfd6c6b661eaf1b34896e775699647d29f87\n",
      "645091159a328f9b5f815a5734c9ae05e1fb85\n",
      "b16a5a05cbdb3cfb75e70144d7a5e436a15f0c\n",
      "main\n",
      "HEAD\n",
      "Week_1-checkpoint.ipynb\n",
      "Week_2-checkpoint.ipynb\n",
      "Week_3-checkpoint.ipynb\n",
      "country_codes.csv\n",
      "ex02.py\n",
      "utils.py\n",
      "__init__.py\n",
      "ex02.cpython-38.pyc\n",
      "utils.cpython-38.pyc\n",
      "__init__.cpython-38.pyc\n"
     ]
    }
   ],
   "source": [
    "# def get_file_names(folderpath,out=output.txt):\n",
    "from modules import utils\n",
    "utils.get_file_names('./')"
   ]
  },
  {
   "cell_type": "code",
   "execution_count": 2,
   "metadata": {
    "collapsed": true
   },
   "outputs": [
    {
     "name": "stdout",
     "output_type": "stream",
     "text": [
      "['output.txt', 'README.md', 'requirements.txt', 'Week_2.ipynb', 'config', 'description', 'HEAD', 'index', 'packed-refs', 'applypatch-msg.sample', 'commit-msg.sample', 'fsmonitor-watchman.sample', 'post-update.sample', 'pre-applypatch.sample', 'pre-commit.sample', 'pre-push.sample', 'pre-rebase.sample', 'pre-receive.sample', 'prepare-commit-msg.sample', 'update.sample', 'exclude', 'HEAD', 'main', 'HEAD', '30a90937f026e7ede719976dbdf822ae735f0c', 'f27e86d351ae56375e3a44153fba5616af6b63', 'a8043f98842cb91568a6d1150c3aed673b0af2', 'bbd281c990c5456312e1b34c6a2409d0550f60', 'eeb5b215c671ea67a797e8b44153ad1ec9a7b6', '248deeda75524cbbad083c5481090355251995', '8de8aba9afe6124cea2b1be20638a6007479d9', 'cbbd6b34b6594f0a3c2b97d4bec5bdcff14c45', '2f9d01aa6ee3322c8de810270556aa1f23f28a', '55ad63416458e8184dac19f0259df93ad9aa93', '85cfd6c6b661eaf1b34896e775699647d29f87', '645091159a328f9b5f815a5734c9ae05e1fb85', 'b16a5a05cbdb3cfb75e70144d7a5e436a15f0c', 'main', 'HEAD', 'Week_1-checkpoint.ipynb', 'Week_2-checkpoint.ipynb', 'Week_3-checkpoint.ipynb', 'country_codes.csv', 'ex02.py', 'utils.py', '__init__.py', 'ex02.cpython-38.pyc', 'utils.cpython-38.pyc', '__init__.cpython-38.pyc']\n"
     ]
    }
   ],
   "source": [
    "# def get_all_file_names(folderpath,out=output.txt):\n",
    "from modules import utils\n",
    "utils.get_all_file_names('./')"
   ]
  },
  {
   "cell_type": "code",
   "execution_count": 3,
   "metadata": {
    "collapsed": true
   },
   "outputs": [
    {
     "name": "stdout",
     "output_type": "stream",
     "text": [
      "output.txt\n",
      "\n",
      "Afghanistan \tAF \tAFG \t004\n",
      "\n"
     ]
    }
   ],
   "source": [
    "# def get_all_file_names(folderpath,out=output.txt):\n",
    "from modules import utils\n",
    "utils.print_line_one('./output.txt', './data/country_codes.csv')"
   ]
  },
  {
   "cell_type": "code",
   "execution_count": 1,
   "metadata": {},
   "outputs": [
    {
     "name": "stdout",
     "output_type": "stream",
     "text": [
      "my@email.com\n"
     ]
    }
   ],
   "source": [
    "# def print_emails(file_names):\n",
    "from modules import utils\n",
    "utils.print_emails('./output.txt')"
   ]
  },
  {
   "cell_type": "code",
   "execution_count": 1,
   "metadata": {},
   "outputs": [
    {
     "ename": "PermissionError",
     "evalue": "[Errno 13] Permission denied: '.'",
     "output_type": "error",
     "traceback": [
      "\u001b[1;31m---------------------------------------------------------------------------\u001b[0m",
      "\u001b[1;31mPermissionError\u001b[0m                           Traceback (most recent call last)",
      "\u001b[1;32m<ipython-input-1-8882a1aa1d46>\u001b[0m in \u001b[0;36m<module>\u001b[1;34m\u001b[0m\n\u001b[0;32m      1\u001b[0m \u001b[1;31m#def write_headlines(md_files, out=output.txt):\u001b[0m\u001b[1;33m\u001b[0m\u001b[1;33m\u001b[0m\u001b[1;33m\u001b[0m\u001b[0m\n\u001b[0;32m      2\u001b[0m \u001b[1;32mfrom\u001b[0m \u001b[0mmodules\u001b[0m \u001b[1;32mimport\u001b[0m \u001b[0mutils\u001b[0m\u001b[1;33m\u001b[0m\u001b[1;33m\u001b[0m\u001b[0m\n\u001b[1;32m----> 3\u001b[1;33m \u001b[0mutils\u001b[0m\u001b[1;33m.\u001b[0m\u001b[0mwrite_headlines\u001b[0m\u001b[1;33m(\u001b[0m\u001b[1;34m'./readme.txt'\u001b[0m\u001b[1;33m)\u001b[0m\u001b[1;33m\u001b[0m\u001b[1;33m\u001b[0m\u001b[0m\n\u001b[0m",
      "\u001b[1;32m~\\Documents\\4sem\\python\\docker_notebooks\\notebooks\\python_handin\\modules\\utils.py\u001b[0m in \u001b[0;36mwrite_headlines\u001b[1;34m(md_files, out)\u001b[0m\n\u001b[0;32m     36\u001b[0m \u001b[1;32mdef\u001b[0m \u001b[0mwrite_headlines\u001b[0m\u001b[1;33m(\u001b[0m\u001b[0mmd_files\u001b[0m\u001b[1;33m,\u001b[0m \u001b[0mout\u001b[0m\u001b[1;33m=\u001b[0m\u001b[1;34m'output_md.txt'\u001b[0m\u001b[1;33m)\u001b[0m\u001b[1;33m:\u001b[0m\u001b[1;33m\u001b[0m\u001b[1;33m\u001b[0m\u001b[0m\n\u001b[0;32m     37\u001b[0m     \u001b[1;32mfor\u001b[0m \u001b[0mfilename\u001b[0m \u001b[1;32min\u001b[0m \u001b[0mmd_files\u001b[0m\u001b[1;33m:\u001b[0m\u001b[1;33m\u001b[0m\u001b[1;33m\u001b[0m\u001b[0m\n\u001b[1;32m---> 38\u001b[1;33m         \u001b[0mmyfile\u001b[0m \u001b[1;33m=\u001b[0m \u001b[0mopen\u001b[0m\u001b[1;33m(\u001b[0m\u001b[0mfilename\u001b[0m\u001b[1;33m,\u001b[0m \u001b[1;34m'r'\u001b[0m\u001b[1;33m)\u001b[0m\u001b[1;33m\u001b[0m\u001b[1;33m\u001b[0m\u001b[0m\n\u001b[0m\u001b[0;32m     39\u001b[0m         \u001b[1;32mfor\u001b[0m \u001b[0mline\u001b[0m \u001b[1;32min\u001b[0m \u001b[0mmyfile\u001b[0m\u001b[1;33m:\u001b[0m\u001b[1;33m\u001b[0m\u001b[1;33m\u001b[0m\u001b[0m\n\u001b[0;32m     40\u001b[0m             \u001b[1;32mif\u001b[0m \u001b[0mline\u001b[0m\u001b[1;33m.\u001b[0m\u001b[0mstartswith\u001b[0m\u001b[1;33m(\u001b[0m\u001b[1;34m'#'\u001b[0m\u001b[1;33m)\u001b[0m\u001b[1;33m:\u001b[0m\u001b[1;33m\u001b[0m\u001b[1;33m\u001b[0m\u001b[0m\n",
      "\u001b[1;31mPermissionError\u001b[0m: [Errno 13] Permission denied: '.'"
     ]
    }
   ],
   "source": [
    "#def write_headlines(md_files, out=output.txt):\n",
    "from modules import utils\n",
    "utils.write_headlines('./README.md')"
   ]
  }
 ],
 "metadata": {
  "kernelspec": {
   "display_name": "Python 3",
   "language": "python",
   "name": "python3"
  },
  "language_info": {
   "codemirror_mode": {
    "name": "ipython",
    "version": 3
   },
   "file_extension": ".py",
   "mimetype": "text/x-python",
   "name": "python",
   "nbconvert_exporter": "python",
   "pygments_lexer": "ipython3",
   "version": "3.8.5"
  }
 },
 "nbformat": 4,
 "nbformat_minor": 4
}
