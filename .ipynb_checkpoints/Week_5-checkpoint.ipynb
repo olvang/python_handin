{
 "cells": [
  {
   "cell_type": "markdown",
   "metadata": {},
   "source": [
    "# Week 5 handin"
   ]
  },
  {
   "cell_type": "markdown",
   "metadata": {},
   "source": [
    "## Assignment\n",
    "\n",
    "### Ex1 Use data from Danmarks Statistik - Databanken\n",
    "1. Go to https://www.dst.dk/da/Statistik/brug-statistikken/muligheder-i-statistikbanken/api#testkonsol\n",
    "2. Open 'Konsol' and click 'Start Konsol'\n",
    "3. In the console at pt 1: choose 'Retrieve tables', pt 2: choose get request and json format and pt 3: execute:\n",
    "  1. check the result\n",
    "  2. in the code below this same get request is used to get information about all available data tables in 'databanken'. \n",
    "4. Change pt. 1 in the console to 'Retrieve data', pt 2: 'get request' and Table id: 'FOLK1A', format: csv, delimiter: semicolon and click: 'Variable and value codes' and choose some sub categories (Hint: hover over the codes to see their meaning). Finally execute and see what data you get.\n",
    "5. With data aggregation and data visualization answer the following questions:\n",
    "  1. What is the change in pct of divorced danes from 2008 to 2020?\n",
    "  2. Which of the 5 biggest cities has the highest percentage of 'Never Married' in 2020?\n",
    "  3. Show a bar chart of changes in marrital status in Copenhagen from 2008 till now\n",
    "  4. Show 2 plots in same figure: 'Married' and 'Never Married' for all ages in DK in 2020 (Hint: x axis is age from 0-125, y axis is how many people in the 2 categories). Add lengend to show names on graphs\n",
    "  \n",
    "### Ex2 Use another table (extra)\n",
    "Choose any of the other tables in 'databanken' to find interesting data.\n",
    "1. Collect the data\n",
    "2. Pose 5 or more interesing questions to the data\n",
    "3. Answer the questions by aggregating the data\n",
    "4. Illustrate the answers with visual plots"
   ]
  },
  {
   "cell_type": "markdown",
   "metadata": {},
   "source": [
    "## Status\n",
    "\n",
    "I have completed all mandatory exercises."
   ]
  },
  {
   "cell_type": "markdown",
   "metadata": {},
   "source": [
    "# Exercise 1\n",
    "### 1 - 4 done on website\n",
    "### 5. A"
   ]
  },
  {
   "cell_type": "code",
   "execution_count": 2,
   "metadata": {},
   "outputs": [
    {
     "name": "stdout",
     "output_type": "stream",
     "text": [
      "        OMRÅDE     TID CIVILSTAND  INDHOLD\n",
      "0  Hele landet  2008K1   Fraskilt   428864\n",
      "1  Hele landet  2008K1      I alt  5475791\n",
      "2  Hele landet  2020K1   Fraskilt   544588\n",
      "3  Hele landet  2020K1      I alt  5822763\n",
      "\n",
      "Difference in percentage of divorced Danes from 2008 to 2020\n",
      "2008: 7.832000892656421 % \n",
      "2020: 9.352741988640101 %\n",
      "\n",
      "Difference: 1.5207410959836807 %\n"
     ]
    }
   ],
   "source": [
    "import pandas as pd \n",
    "\n",
    "data = pd.read_csv(\"https://api.statbank.dk/v1/data/FOLK1A/CSV?delimiter=Semicolon&OMR%C3%85DE=000&Tid=2008K1%2C2020K1&CIVILSTAND=F%2CTOT\", sep=\";\")\n",
    "print(data)\n",
    "\n",
    "pct_2008 = (data[\"INDHOLD\"][0] / data[\"INDHOLD\"][1]) * 100\n",
    "pct_2020 = (data[\"INDHOLD\"][2] / data[\"INDHOLD\"][3]) * 100\n",
    "\n",
    "print(\"\\nDifference in percentage of divorced Danes from 2008 to 2020\\n2008:\", pct_2008, \"%\", \"\\n2020:\", pct_2020, \"%\\n\\nDifference:\", pct_2020 - pct_2008, \"%\")"
   ]
  },
  {
   "cell_type": "markdown",
   "metadata": {},
   "source": [
    "### 5. B"
   ]
  },
  {
   "cell_type": "code",
   "execution_count": 3,
   "metadata": {},
   "outputs": [
    {
     "name": "stdout",
     "output_type": "stream",
     "text": [
      "['København', 'Aarhus', 'Aalborg', 'Odense', 'Vejle'] \n",
      "\n",
      "    CIVILSTAND     OMRÅDE     TID  INDHOLD\n",
      "107      I alt  København  2020K4   637936\n",
      "2        Ugift  København  2020K4   417782 \n",
      "\n",
      "    CIVILSTAND  OMRÅDE     TID  INDHOLD\n",
      "189      I alt  Aarhus  2020K4   353445\n",
      "84       Ugift  Aarhus  2020K4   211863 \n",
      "\n",
      "    CIVILSTAND   OMRÅDE     TID  INDHOLD\n",
      "209      I alt  Aalborg  2020K4   219310\n",
      "104      Ugift  Aalborg  2020K4   120226 \n",
      "\n",
      "    CIVILSTAND  OMRÅDE     TID  INDHOLD\n",
      "163      I alt  Odense  2020K4   205881\n",
      "58       Ugift  Odense  2020K4   113639 \n",
      "\n",
      "    CIVILSTAND OMRÅDE     TID  INDHOLD\n",
      "176      I alt  Vejle  2020K4   116665\n",
      "71       Ugift  Vejle  2020K4    55116 \n",
      "\n",
      "\n",
      " Of the 5 biggest cities, København has the highest percentage of never married people. \n",
      "Percentage: 65.4896415941411 %\n"
     ]
    },
    {
     "name": "stderr",
     "output_type": "stream",
     "text": [
      "/opt/conda/lib/python3.7/site-packages/ipykernel_launcher.py:6: UserWarning: Boolean Series key will be reindexed to match DataFrame index.\n",
      "  \n"
     ]
    }
   ],
   "source": [
    "data = pd.read_csv(\"https://api.statbank.dk/v1/data/FOLK1A/CSV?delimiter=Semicolon&CIVILSTAND=U%2CTOT&OMR%C3%85DE=*&Tid=2020K4\", sep=\";\")\n",
    "data = data.sort_values(by=[\"INDHOLD\"], ascending=False)\n",
    "\n",
    "# ~ is an inversion operator (turning True to False), so this means false (or does NOT contain)\n",
    "data_no_regions = data[(data[\"OMRÅDE\"] != \"Hele landet\") & (~data[\"OMRÅDE\"].str.contains(\"Region\"))] \n",
    "totals = data_no_regions[data[\"CIVILSTAND\"] == \"I alt\"]\n",
    "biggest_cities = []\n",
    "\n",
    "for city in totals[\"OMRÅDE\"]:\n",
    "    if (city not in biggest_cities) & (len(biggest_cities) < 5):\n",
    "        biggest_cities.append(city)\n",
    "\n",
    "print(biggest_cities, \"\\n\")\n",
    "current = {\"pct\": 0, \"city\": \"\"}\n",
    "\n",
    "for city in biggest_cities:\n",
    "    pop = data_no_regions[data_no_regions[\"OMRÅDE\"] == city]\n",
    "    print(pop, \"\\n\")\n",
    "    unmarried = pop.index[1]\n",
    "    total = pop.index[0]\n",
    "    pct_unmarried = (pop[\"INDHOLD\"][unmarried] / pop[\"INDHOLD\"][total]) * 100\n",
    "\n",
    "    if (current[\"pct\"] < pct_unmarried):\n",
    "        current[\"city\"] = city\n",
    "        current[\"pct\"] = pct_unmarried\n",
    "    else:\n",
    "        continue\n",
    "\n",
    "print(\"\\n\", \"Of the 5 biggest cities,\", current[\"city\"], \"has the highest percentage of never married people. \\nPercentage:\", current[\"pct\"], \"%\")\n",
    "    "
   ]
  },
  {
   "cell_type": "markdown",
   "metadata": {},
   "source": [
    "### 5. C - D"
   ]
  },
  {
   "cell_type": "code",
   "execution_count": 6,
   "metadata": {},
   "outputs": [
    {
     "data": {
      "image/png": "[encoded data removed]",
      "text/plain": [
       "<Figure size 1080x432 with 2 Axes>"
      ]
     },
     "metadata": {
      "needs_background": "light"
     },
     "output_type": "display_data"
    }
   ],
   "source": [
    "import numpy as np\n",
    "import matplotlib.pyplot as plt \n",
    "\n",
    "# 5. C\n",
    "data = pd.read_csv(\"https://api.statbank.dk/v1/data/FOLK1A/CSV?delimiter=Semicolon&Tid=2008K1%2C2009K1%2C2010K1%2C2011K1%2C2012K1%2C2013K1%2C2014K1%2C2015K1%2C2016K1%2C2017K1%2C2018K1%2C2019K1%2C2020K1%2C2021K1&CIVILSTAND=U%2CG%2CE%2CF&OMR%C3%85DE=101\", sep=\";\")\n",
    "\n",
    "unmarried_dict = {}\n",
    "married_dict = {}\n",
    "widow_dict = {}\n",
    "divorced_dict = {}\n",
    "\n",
    "statuses = np.unique(data[\"CIVILSTAND\"])\n",
    "\n",
    "def fill_dict(dict, dict_data, index):\n",
    "    dict[dict_data[\"TID\"][index]] = dict_data[\"INDHOLD\"][index]\n",
    "\n",
    "for status in statuses:\n",
    "    pop = data[data[\"CIVILSTAND\"] == status]\n",
    "    indices = list(pop.index)\n",
    "    for index in indices:\n",
    "        if status == \"Ugift\":\n",
    "            fill_dict(unmarried_dict, pop, index)\n",
    "        elif status == \"Gift/separeret\":\n",
    "            fill_dict(married_dict, pop, index)\n",
    "        elif status == \"Enke/enkemand\":\n",
    "            fill_dict(widow_dict, pop, index)\n",
    "        elif status == \"Fraskilt\":\n",
    "            fill_dict(divorced_dict, pop, index)\n",
    "        else:\n",
    "            continue\n",
    "\n",
    "\n",
    "# 5. D\n",
    "data_2 = pd.read_csv(\"https://api.statbank.dk/v1/data/FOLK1A/CSV?delimiter=Semicolon&CIVILSTAND=U%2CG&ALDER=*&OMR%C3%85DE=000&Tid=2020K4\", sep=\";\")\n",
    "married_2020 = {}\n",
    "unmarried_2020 = {}\n",
    "\n",
    "ages = []\n",
    "for age in data_2[\"ALDER\"]:\n",
    "    if age not in ages:\n",
    "        ages.append(age)\n",
    "\n",
    "for age in ages:\n",
    "    pop_married = data_2[(data_2[\"ALDER\"] == age) & (data_2[\"CIVILSTAND\"] == \"Gift/separeret\")]\n",
    "    pop_unmarried = data_2[(data_2[\"ALDER\"] == age) & (data_2[\"CIVILSTAND\"] == \"Ugift\")]\n",
    "    married_indices = list(pop_married.index)\n",
    "    unmarried_indices = list(pop_unmarried.index)\n",
    "\n",
    "    for index in married_indices:\n",
    "        if pop_married[\"ALDER\"][index] != \"I alt\":\n",
    "            married_2020[pop_married[\"ALDER\"][index]] = pop_married[\"INDHOLD\"][index]\n",
    "    for index in unmarried_indices:\n",
    "        if pop_unmarried[\"ALDER\"][index] != \"I alt\":\n",
    "            unmarried_2020[pop_unmarried[\"ALDER\"][index]] = pop_unmarried[\"INDHOLD\"][index]\n",
    "\n",
    "\n",
    "fig, (ax1, ax2) = plt.subplots(1, 2, figsize=(15, 6))\n",
    "\n",
    "# 5. C plot\n",
    "width = 0.2\n",
    "x_range = list(range(0, len(unmarried_dict)))\n",
    "married_x_vals = [x+width for x in x_range]\n",
    "widow_x_vals = [x+(width*2) for x in x_range]\n",
    "divorced_x_vals = [x+(width*3) for x in x_range]\n",
    "\n",
    "unmarried = ax1.bar(unmarried_dict.keys(), unmarried_dict.values(), width=width)\n",
    "married = ax1.bar(married_x_vals, married_dict.values(), width=width)\n",
    "widow = ax1.bar(widow_x_vals, widow_dict.values(), width=width)\n",
    "divorced = ax1.bar(divorced_x_vals, divorced_dict.values(), width=width)\n",
    "\n",
    "ax1.set_title(\"Marital status of people in Copenhagen from 2008 - 2021\")\n",
    "ax1.set_xlabel(\"Year\")\n",
    "ax1.set_ylabel(\"Amount of people\")\n",
    "ax1.legend((unmarried[0], married[0], widow[0], divorced[0]), (\"Unmarried\", \"Married\", \"Widow\", \"Divorced\"), loc=\"upper right\")\n",
    "plt.setp(ax1.get_xticklabels(), rotation=45)\n",
    "\n",
    "# 5. D plot\n",
    "plt_2_width = 0.35\n",
    "m_ages = list(range(126))\n",
    "um_ages = [x+plt_2_width for x in m_ages]\n",
    "all_ages_married_dk = ax2.bar(m_ages, married_2020.values(), width=plt_2_width)\n",
    "all_ages_unmarried_dk = ax2.bar(um_ages, unmarried_2020.values(), width=plt_2_width)\n",
    "\n",
    "ax2.set_title(\"Married and never married people in Denmark in 2020\")\n",
    "ax2.set_xlabel(\"Age\")\n",
    "ax2.set_ylabel(\"Amount of people\")\n",
    "ax2.legend((all_ages_married_dk[0], all_ages_unmarried_dk[0]), (\"Married\", \"Never married\"), loc=\"upper right\")\n",
    "\n",
    "plt.show()\n",
    "\n"
   ]
  },
  {
   "cell_type": "markdown",
   "metadata": {},
   "source": [
    "### 5. D by itself (explanation below)"
   ]
  },
  {
   "cell_type": "code",
   "execution_count": 5,
   "metadata": {},
   "outputs": [
    {
     "data": {
      "image/png": "[encoded data removed]",
      "text/plain": [
       "<Figure size 1080x432 with 2 Axes>"
      ]
     },
     "metadata": {
      "needs_background": "light"
     },
     "output_type": "display_data"
    }
   ],
   "source": [
    "# I initially completed this exercise as seen in the previous cell, but later became uncertain about\n",
    "# whether that was the right way to do it after rereading the exercise. Therefore, I redid it here\n",
    "# with two separate plots for married and never married people, instead of having the two combined\n",
    "# in one plot next to the plot from exercise 5. C.\n",
    "\n",
    "data_2 = pd.read_csv(\"https://api.statbank.dk/v1/data/FOLK1A/CSV?delimiter=Semicolon&CIVILSTAND=U%2CG&ALDER=*&OMR%C3%85DE=000&Tid=2020K4\", sep=\";\")\n",
    "married_2020 = {}\n",
    "unmarried_2020 = {}\n",
    "\n",
    "ages = []\n",
    "for age in data_2[\"ALDER\"]:\n",
    "    if age not in ages:\n",
    "        ages.append(age)\n",
    "\n",
    "for age in ages:\n",
    "    pop_married = data_2[(data_2[\"ALDER\"] == age) & (data_2[\"CIVILSTAND\"] == \"Gift/separeret\")]\n",
    "    pop_unmarried = data_2[(data_2[\"ALDER\"] == age) & (data_2[\"CIVILSTAND\"] == \"Ugift\")]\n",
    "    married_indices = list(pop_married.index)\n",
    "    unmarried_indices = list(pop_unmarried.index)\n",
    "\n",
    "    for index in married_indices:\n",
    "        if pop_married[\"ALDER\"][index] != \"I alt\":\n",
    "            married_2020[pop_married[\"ALDER\"][index]] = pop_married[\"INDHOLD\"][index]\n",
    "    for index in unmarried_indices:\n",
    "        if pop_unmarried[\"ALDER\"][index] != \"I alt\":\n",
    "            unmarried_2020[pop_unmarried[\"ALDER\"][index]] = pop_unmarried[\"INDHOLD\"][index]\n",
    "\n",
    "\n",
    "fig, (ax1, ax2) = plt.subplots(1, 2, figsize=(15, 6))\n",
    "plt_2_width = 0.35\n",
    "m_ages = list(range(126))\n",
    "um_ages = [x+plt_2_width for x in m_ages]\n",
    "all_ages_married_dk = ax1.bar(m_ages, married_2020.values(), width=plt_2_width)\n",
    "all_ages_unmarried_dk = ax2.bar(um_ages, unmarried_2020.values(), width=plt_2_width)\n",
    "\n",
    "ax1.set_title(\"Married people in Denmark in 2020\")\n",
    "ax1.set_xlabel(\"Age\")\n",
    "ax1.set_ylabel(\"Amount of people\")\n",
    "\n",
    "ax2.set_title(\"Never married people in Denmark in 2020\")\n",
    "ax2.set_xlabel(\"Age\")\n",
    "ax2.set_ylabel(\"Amount of people\")\n",
    "\n",
    "plt.show()"
   ]
  }
 ],
 "metadata": {
  "kernelspec": {
   "display_name": "Python 3",
   "language": "python",
   "name": "python3"
  },
  "language_info": {
   "codemirror_mode": {
    "name": "ipython",
    "version": 3
   },
   "file_extension": ".py",
   "mimetype": "text/x-python",
   "name": "python",
   "nbconvert_exporter": "python",
   "pygments_lexer": "ipython3",
   "version": "3.8.5"
  }
 },
 "nbformat": 4,
 "nbformat_minor": 2
}
