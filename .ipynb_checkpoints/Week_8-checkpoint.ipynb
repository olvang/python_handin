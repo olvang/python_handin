{
 "cells": [
  {
   "cell_type": "markdown",
   "metadata": {},
   "source": [
    "# Week 8 handin"
   ]
  },
  {
   "cell_type": "markdown",
   "metadata": {},
   "source": [
    "# Assignment chosen: \n",
    "\n",
    "## Python_exercise_08\n",
    "\n",
    "https://github.com/KingBendico/Python_exercise_08/blob/master/README.md"
   ]
  },
  {
   "cell_type": "markdown",
   "metadata": {},
   "source": [
    "## Status\n",
    "I have completed all exercises."
   ]
  },
  {
   "cell_type": "markdown",
   "metadata": {},
   "source": [
    "# Exercise 1"
   ]
  },
  {
   "cell_type": "code",
   "execution_count": 25,
   "metadata": {},
   "outputs": [
    {
     "name": "stdout",
     "output_type": "stream",
     "text": [
      "Chuck Norris's spinning back-fist was the inspiration for the centrifuge . They just had to slow it down .\n"
     ]
    }
   ],
   "source": [
    "import requests\n",
    "\n",
    "# 1\n",
    "url = \"https://api.chucknorris.io/jokes/random\"\n",
    "res = requests.get(url)\n",
    "joke = res.json()[\"value\"]\n",
    "\n",
    "print(joke)"
   ]
  },
  {
   "cell_type": "markdown",
   "metadata": {},
   "source": [
    "# Exercise 2"
   ]
  },
  {
   "cell_type": "code",
   "execution_count": 26,
   "metadata": {},
   "outputs": [
    {
     "name": "stdout",
     "output_type": "stream",
     "text": [
      "Joke added:\n",
      " {'id': 4, 'value': \"Chuck Norris's spinning back-fist was the inspiration for the centrifuge . They just had to slow it down .\"}\n"
     ]
    }
   ],
   "source": [
    "running_app_url = \"http://localhost:5000/joke\"\n",
    "body = {\"value\": joke}\n",
    "\n",
    "addedJoke = requests.post(running_app_url, json = body)\n",
    "print(\"Joke added:\\n\", addedJoke.json())"
   ]
  },
  {
   "cell_type": "markdown",
   "metadata": {},
   "source": [
    "# Exercise 3"
   ]
  },
  {
   "cell_type": "code",
   "execution_count": 29,
   "metadata": {},
   "outputs": [
    {
     "name": "stdout",
     "output_type": "stream",
     "text": [
      "{'id': 1, 'text': 'Random Joke', 'value': 'Chuck Norris is the reason why Nina Needs to Go!'} \n",
      "\n",
      "{'id': 2, 'text': 'Random Joke', 'value': 'Chuck Norris is the reason why Nina Needs to Go!'} \n",
      "\n",
      "{'id': 3, 'text': 'Random Joke', 'value': 'Chuck Norris is the reason why Nina Needs to Go!'} \n",
      "\n",
      "{'id': 4, 'text': 'Random Joke', 'value': \"Chuck Norris's spinning back-fist was the inspiration for the centrifuge . They just had to slow it down .\"} \n",
      "\n"
     ]
    }
   ],
   "source": [
    "allJokes = requests.get(running_app_url)\n",
    "for joke in allJokes.json():\n",
    "    print(joke, \"\\n\")"
   ]
  },
  {
   "cell_type": "code",
   "execution_count": null,
   "metadata": {},
   "outputs": [],
   "source": []
  }
 ],
 "metadata": {
  "kernelspec": {
   "display_name": "Python 3",
   "language": "python",
   "name": "python3"
  },
  "language_info": {
   "codemirror_mode": {
    "name": "ipython",
    "version": 3
   },
   "file_extension": ".py",
   "mimetype": "text/x-python",
   "name": "python",
   "nbconvert_exporter": "python",
   "pygments_lexer": "ipython3",
   "version": "3.8.5"
  }
 },
 "nbformat": 4,
 "nbformat_minor": 4
}
