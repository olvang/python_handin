{
 "cells": [
  {
   "cell_type": "markdown",
   "metadata": {},
   "source": [
    "# Week 1 handin"
   ]
  },
  {
   "cell_type": "markdown",
   "metadata": {},
   "source": [
    "## Assignment\n",
    "Name: 01-Exercise\n",
    "\n",
    "This is our first assignment in the Python elective. "
   ]
  },
  {
   "cell_type": "markdown",
   "metadata": {},
   "source": [
    "## Status\n",
    "I have completed all exercises except the extra assignment. I tried to figure it out, but became uncertain about whether I was supposed to find the probability of each combination or the probability of each roll value.\n",
    "\n",
    "If it was probability of each combination, the result for every combination would be 1/36 (total number of combinations with 2 six-sided dice) or 2.7%, in a single throw. If it was probability of roll values, however, the results would obviously vary as some values have many combinations while others have only one (12 having only 6 + 6 while 4 has 1 +3, 3 + 1 and 2 + 2, for example)."
   ]
  },
  {
   "cell_type": "markdown",
   "metadata": {},
   "source": [
    "## 1. Create 5 list comprehensions to solve the following 5 problems:"
   ]
  },
  {
   "cell_type": "markdown",
   "metadata": {},
   "source": [
    "### A. Iterate a list of names to return a list of the names starting with H"
   ]
  },
  {
   "cell_type": "code",
   "execution_count": 1,
   "metadata": {},
   "outputs": [
    {
     "name": "stdout",
     "output_type": "stream",
     "text": [
      "['Sven', 'Hans', 'Helle', 'Martin', 'Bob']\n",
      "\n",
      "Names starting with H:  ['Hans', 'Helle']\n"
     ]
    }
   ],
   "source": [
    "name_list = [\"Sven\", \"Hans\", \"Helle\", \"Martin\", \"Bob\"]\n",
    "print(name_list)\n",
    "new_name_list = [name for name in name_list if name.startswith(\"H\")]\n",
    "print(\"\\nNames starting with H: \", new_name_list)"
   ]
  },
  {
   "cell_type": "markdown",
   "metadata": {},
   "source": [
    "### B. In one line create a list of the numbers 1-100 to the power of 3"
   ]
  },
  {
   "cell_type": "code",
   "execution_count": 2,
   "metadata": {},
   "outputs": [
    {
     "name": "stdout",
     "output_type": "stream",
     "text": [
      "[1, 8, 27, 64, 125, 216, 343, 512, 729, 1000, 1331, 1728, 2197, 2744, 3375, 4096, 4913, 5832, 6859, 8000, 9261, 10648, 12167, 13824, 15625, 17576, 19683, 21952, 24389, 27000, 29791, 32768, 35937, 39304, 42875, 46656, 50653, 54872, 59319, 64000, 68921, 74088, 79507, 85184, 91125, 97336, 103823, 110592, 117649, 125000, 132651, 140608, 148877, 157464, 166375, 175616, 185193, 195112, 205379, 216000, 226981, 238328, 250047, 262144, 274625, 287496, 300763, 314432, 328509, 343000, 357911, 373248, 389017, 405224, 421875, 438976, 456533, 474552, 493039, 512000, 531441, 551368, 571787, 592704, 614125, 636056, 658503, 681472, 704969, 729000, 753571, 778688, 804357, 830584, 857375, 884736, 912673, 941192, 970299]\n"
     ]
    }
   ],
   "source": [
    "number_list = [number**3 for number in range(1, 100)]\n",
    "print(number_list)"
   ]
  },
  {
   "cell_type": "markdown",
   "metadata": {},
   "source": [
    "### C. Iterate a list of names to create a list of tuples where the tuples first value is the length of the name and the second is the name"
   ]
  },
  {
   "cell_type": "code",
   "execution_count": 3,
   "metadata": {},
   "outputs": [
    {
     "name": "stdout",
     "output_type": "stream",
     "text": [
      "[(4, 'Leif'), (6, 'Mogens'), (5, 'Hanne'), (4, 'Anna'), (7, 'William')]\n"
     ]
    }
   ],
   "source": [
    "name_list = [\"Leif\", \"Mogens\", \"Hanne\", \"Anna\", \"William\"]\n",
    "tuples_list = [(len(name), name) for name in name_list]\n",
    "print(tuples_list)"
   ]
  },
  {
   "cell_type": "markdown",
   "metadata": {},
   "source": [
    "### D. Iterate over each character in a string and get only those that are numeric"
   ]
  },
  {
   "cell_type": "code",
   "execution_count": 4,
   "metadata": {
    "scrolled": true
   },
   "outputs": [
    {
     "name": "stdout",
     "output_type": "stream",
     "text": [
      "['3', '2', '0', '9']\n"
     ]
    }
   ],
   "source": [
    "random_string = \"x3ka20jyhki9\"\n",
    "only_numbers = [char for char in random_string if char.isnumeric()]\n",
    "print(only_numbers)"
   ]
  },
  {
   "cell_type": "markdown",
   "metadata": {},
   "source": [
    "### E. Using only a list comprehension wrapped in set() get all possible combinations from throwing 2 dice (hint use 2 for loops in a single list comprehension)"
   ]
  },
  {
   "cell_type": "code",
   "execution_count": 5,
   "metadata": {},
   "outputs": [
    {
     "name": "stdout",
     "output_type": "stream",
     "text": [
      "\n",
      "All combinations:\n",
      " {(3, 4), (4, 3), (3, 1), (5, 4), (4, 6), (5, 1), (2, 2), (1, 6), (2, 5), (1, 3), (6, 2), (6, 5), (4, 2), (4, 5), (3, 3), (5, 6), (3, 6), (5, 3), (2, 4), (1, 2), (2, 1), (1, 5), (6, 1), (6, 4), (3, 2), (4, 1), (3, 5), (5, 2), (4, 4), (5, 5), (1, 1), (1, 4), (2, 3), (2, 6), (6, 6), (6, 3)}\n",
      "\n",
      "Number of combinations:  36\n"
     ]
    }
   ],
   "source": [
    "dice_1 = [1, 2, 3, 4, 5, 6]\n",
    "dice_2 = [1, 2, 3, 4, 5, 6]\n",
    "combinations = set([(d1, d2) for d1 in dice_1 for d2 in dice_2])\n",
    "print(\"\\nAll combinations:\\n\", combinations)\n",
    "print(\"\\nNumber of combinations: \", len(combinations))"
   ]
  },
  {
   "cell_type": "markdown",
   "metadata": {},
   "source": [
    "## 2. Create 2 dictionary comprehensions to solve the following:"
   ]
  },
  {
   "cell_type": "markdown",
   "metadata": {},
   "source": [
    "### A. Iterate a list of names and create a dictionary where key is the name and value is the length of the name"
   ]
  },
  {
   "cell_type": "code",
   "execution_count": 95,
   "metadata": {},
   "outputs": [
    {
     "data": {
      "text/plain": [
       "{'Poul': 4, 'Kamilla': 7, 'Trine': 5, 'Joe': 3, 'Sofie': 5}"
      ]
     },
     "execution_count": 95,
     "metadata": {},
     "output_type": "execute_result"
    }
   ],
   "source": [
    "name_list = [\"Poul\", \"Kamilla\", \"Trine\", \"Joe\", \"Sofie\"]\n",
    "dictionary =  {name: len(name) for name in name_list}\n",
    "dictionary"
   ]
  },
  {
   "cell_type": "markdown",
   "metadata": {},
   "source": [
    "### B. Iterate a list of numbers and create a dictionary with {key:value} being {number:squareroot_of_number}"
   ]
  },
  {
   "cell_type": "code",
   "execution_count": 6,
   "metadata": {},
   "outputs": [
    {
     "data": {
      "text/plain": [
       "{6: 2.449489742783178,\n",
       " 512: 22.627416997969522,\n",
       " 15: 3.872983346207417,\n",
       " 13323: 115.42530051942686,\n",
       " 418: 20.445048300260872}"
      ]
     },
     "execution_count": 6,
     "metadata": {},
     "output_type": "execute_result"
    }
   ],
   "source": [
    "import math\n",
    "number_list = [6, 512, 15, 13323, 418]\n",
    "dictionary = {number: math.sqrt(number) for number in number_list}\n",
    "dictionary\n"
   ]
  },
  {
   "cell_type": "markdown",
   "metadata": {},
   "source": [
    "### Progammatically using loops create a small program to produce a dictionary with all the 2 dice throw combinations as keys and their likelyhood in percent as values"
   ]
  },
  {
   "cell_type": "code",
   "execution_count": 7,
   "metadata": {},
   "outputs": [
    {
     "data": {
      "text/plain": [
       "{7: 16.666666666666664,\n",
       " 4: 8.333333333333332,\n",
       " 9: 11.11111111111111,\n",
       " 10: 8.333333333333332,\n",
       " 6: 13.88888888888889,\n",
       " 8: 13.88888888888889,\n",
       " 11: 5.555555555555555,\n",
       " 3: 5.555555555555555,\n",
       " 5: 11.11111111111111,\n",
       " 2: 2.7777777777777777,\n",
       " 12: 2.7777777777777777}"
      ]
     },
     "execution_count": 7,
     "metadata": {},
     "output_type": "execute_result"
    }
   ],
   "source": [
    "combinations = set([(d1, d2) for d1 in range(1,7) for d2 in range(1,7)])\n",
    "sums = [x+y for x,y in combinations]\n",
    "\n",
    "all_combs = []\n",
    "for sum in sums:\n",
    "    count = sums.count(sum)\n",
    "    all_combs.append({\"sum\": sum, \"count\": count})\n",
    "\n",
    "uniques = []\n",
    "for comb in all_combs:\n",
    "    if (comb not in uniques):\n",
    "        uniques.append(comb)\n",
    "        \n",
    "final_dict = {comb[\"sum\"]:  comb[\"count\"]/len(combinations)*100 for comb in uniques}\n",
    "final_dict"
   ]
  },
  {
   "cell_type": "code",
   "execution_count": null,
   "metadata": {},
   "outputs": [],
   "source": []
  }
 ],
 "metadata": {
  "kernelspec": {
   "display_name": "Python 3",
   "language": "python",
   "name": "python3"
  },
  "language_info": {
   "codemirror_mode": {
    "name": "ipython",
    "version": 3
   },
   "file_extension": ".py",
   "mimetype": "text/x-python",
   "name": "python",
   "nbconvert_exporter": "python",
   "pygments_lexer": "ipython3",
   "version": "3.8.5"
  }
 },
 "nbformat": 4,
 "nbformat_minor": 4
}
