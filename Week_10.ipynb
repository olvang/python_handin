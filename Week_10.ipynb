{
 "cells": [
  {
   "cell_type": "markdown",
   "metadata": {},
   "source": [
    "# Week 10 handin"
   ]
  },
  {
   "cell_type": "markdown",
   "metadata": {},
   "source": [
    "## Assignment\n",
    "\n",
    "### Exercise meanshift\n",
    "1. load 'data/iris_data.csv' into a dataframe (use decimal=',') and remove the 2 `Petal` columns. Now we are left with a 2D feature space\n",
    "2. get unique labels (Species column)\n",
    "3. plot with a scatter plot each iris flower sample colored by label (3 different colors)\n",
    "4. use: `MeanShift` and `estimate_bandwidth` from `sklearn.cluster` to first estimate bandwidth and then get the clusters (HINT: estimate_bandwidth() takes an argument: `quantile` set it to `0.2` for best result)\n",
    "5. print out labels, cluster centers and number of clusters (as returned from the MeanShift function)\n",
    "5. create a new scatter plot where each flower is colored according to cluster label\n",
    "6. add a dot for the cluster centers\n",
    "7. Compare the 2 plots (colored by actual labels vs. colored by cluster label)\n",
    "8. Try changing the 'quantile' argument to 0.15 and see what happens to your cluster plot."
   ]
  },
  {
   "cell_type": "markdown",
   "metadata": {},
   "source": [
    "## Status\n",
    "All Done"
   ]
  },
  {
   "cell_type": "markdown",
   "metadata": {},
   "source": [
    "# Exercises\n",
    "### 1 - 3"
   ]
  },
  {
   "cell_type": "code",
   "execution_count": 3,
   "metadata": {},
   "outputs": [
    {
     "data": {
      "image/png": "[encoded data removed]",
      "text/plain": [
       "<Figure size 432x288 with 1 Axes>"
      ]
     },
     "metadata": {
      "needs_background": "light"
     },
     "output_type": "display_data"
    }
   ],
   "source": [
    "import pandas as pd\n",
    "import matplotlib.pyplot as plt\n",
    "\n",
    "# 1\n",
    "df = pd.read_csv(\"data/iris_data.csv\", decimal=\",\")\n",
    "iris_df = df.drop(columns=[\"Petal length\", \"Petal width\"])\n",
    "\n",
    "# 2\n",
    "unique_labels = iris_df[\"Species\"].unique()\n",
    "\n",
    "# 3\n",
    "grouped_labels = iris_df.groupby(\"Species\")\n",
    "\n",
    "for name, group in grouped_labels:\n",
    "    plt.plot(group[\"Sepal length\"], group[\"Sepal width\"], linestyle=\"\", label=name, marker=\"o\")\n",
    "    plt.legend()"
   ]
  },
  {
   "cell_type": "markdown",
   "metadata": {},
   "source": [
    "### 4 - 9"
   ]
  },
  {
   "cell_type": "code",
   "execution_count": 21,
   "metadata": {},
   "outputs": [
    {
     "name": "stdout",
     "output_type": "stream",
     "text": [
      "Estimated bandwidth: 0.5782805830511768\n",
      "\n",
      " MeanShift(bandwidth=0.5782805830511768, bin_seeding=True)\n",
      "\n",
      "MeanShift labels: [1 1 1 1 1 1 1 1 1 1 1 1 1 1 1 1 1 1 1 1 1 1 1 1 1 1 1 1 1 1 1 1 1 1 1 1 1\n",
      " 1 1 1 1 1 1 1 1 1 1 1 1 1 2 0 0 0 0 0 0 1 0 1 1 0 0 0 0 0 0 0 0 0 0 0 0 0\n",
      " 0 0 0 0 0 0 0 0 0 0 1 0 0 0 0 0 0 0 0 1 0 0 0 0 1 0 0 0 2 0 0 2 1 2 0 2 0\n",
      " 0 0 0 0 0 0 2 2 0 0 0 2 0 0 2 0 0 0 2 2 2 0 0 0 2 0 0 0 0 0 0 0 0 0 0 0 0\n",
      " 0 0]\n",
      "\n",
      "MeanShift cluster centers:\n",
      " [[6.08727273 2.90181818]\n",
      " [5.         3.37692308]\n",
      " [7.6        3.73333333]]\n",
      "\n",
      "Clusters: 3\n"
     ]
    },
    {
     "data": {
      "text/plain": [
       "Text(0.5, 1.0, 'Estimated clusters: 3')"
      ]
     },
     "execution_count": 21,
     "metadata": {},
     "output_type": "execute_result"
    },
    {
     "data": {
      "image/png": "[encoded data removed]",
      "text/plain": [
       "<Figure size 432x288 with 1 Axes>"
      ]
     },
     "metadata": {
      "needs_background": "light"
     },
     "output_type": "display_data"
    }
   ],
   "source": [
    "from itertools import cycle \n",
    "import numpy as np \n",
    "from sklearn.cluster import estimate_bandwidth, MeanShift\n",
    "from sklearn import preprocessing\n",
    "\n",
    "# 4\n",
    "labels_no_species = iris_df.drop(columns=\"Species\")\n",
    "labels_no_species_values = labels_no_species.values\n",
    "\n",
    "bw = estimate_bandwidth(labels_no_species_values, quantile=0.2, n_samples=len(labels_no_species_values))\n",
    "print(\"Estimated bandwidth:\", bw)\n",
    "\n",
    "ms = MeanShift(bandwidth=bw, bin_seeding=True)\n",
    "ms.fit(labels_no_species_values)\n",
    "print(\"\\n\", ms)\n",
    "\n",
    "# 5\n",
    "labels = ms.labels_\n",
    "cluster_centers = ms.cluster_centers_\n",
    "n_clusters = len(np.unique(labels))\n",
    "\n",
    "print(\"\\nMeanShift labels:\", labels)\n",
    "print(\"\\nMeanShift cluster centers:\\n\", cluster_centers)\n",
    "print(\"\\nClusters:\", n_clusters)\n",
    "\n",
    "# 6 & 7\n",
    "\n",
    "fig = plt.figure()\n",
    "ax = fig.add_subplot(111)\n",
    "\n",
    "colors = cycle('bgrcmy')\n",
    "for k, col in zip(range(n_clusters), colors):\n",
    "    my_members = (labels == k)\n",
    "    cluster_center = cluster_centers[k]\n",
    "    \n",
    "    x, y = labels_no_species_values[my_members,0], labels_no_species_values[my_members,1]\n",
    "    \n",
    "    ax.scatter(x, y, c=col, linewidth=0.4)\n",
    "    \n",
    "    ax.scatter(cluster_center[0], cluster_center[1], c='k', s=57, linewidth=0.4)\n",
    "    \n",
    "plt.title('Estimated clusters: {}'.format(n_clusters))"
   ]
  },
  {
   "cell_type": "code",
   "execution_count": null,
   "metadata": {},
   "outputs": [],
   "source": []
  },
  {
   "cell_type": "code",
   "execution_count": null,
   "metadata": {},
   "outputs": [],
   "source": []
  }
 ],
 "metadata": {
  "kernelspec": {
   "display_name": "Python 3",
   "language": "python",
   "name": "python3"
  },
  "language_info": {
   "codemirror_mode": {
    "name": "ipython",
    "version": 3
   },
   "file_extension": ".py",
   "mimetype": "text/x-python",
   "name": "python",
   "nbconvert_exporter": "python",
   "pygments_lexer": "ipython3",
   "version": "3.8.5"
  }
 },
 "nbformat": 4,
 "nbformat_minor": 4
}
