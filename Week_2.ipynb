{
 "cells": [
  {
   "cell_type": "markdown",
   "metadata": {},
   "source": [
    "# Week 2 handin"
   ]
  },
  {
   "cell_type": "markdown",
   "metadata": {},
   "source": [
    "## 01 Assignment\n",
    "Here is the text for the assignment linked to"
   ]
  },
  {
   "cell_type": "markdown",
   "metadata": {},
   "source": [
    "# 02 Status\n",
    "#All exercises done, but did not create the cli part of ex2."
   ]
  },
  {
   "cell_type": "markdown",
   "metadata": {},
   "source": [
    "## 02 Solution Exercise 1"
   ]
  },
  {
   "cell_type": "code",
   "execution_count": 1,
   "metadata": {},
   "outputs": [
    {
     "name": "stdout",
     "output_type": "stream",
     "text": [
      "Afghanistan \tAF \tAFG \t004\n",
      "Albania \tAL \tALB \t008\n",
      "Algeria \tDZ \tDZA \t012\n",
      "American Samoa \tAS \tASM \t016\n",
      "Andorra \tAD \tAND \t020\n",
      "Angola \tAO \tAGO \t024\n",
      "Anguilla \tAI \tAIA \t660\n",
      "Antarctica \tAQ \tATA \t010\n",
      "Antigua and Barbuda \tAG \tATG \t028\n",
      "Argentina \tAR \tARG \t032\n",
      "Armenia \tAM \tARM \t051\n",
      "Aruba \tAW \tABW \t533\n",
      "Australia \tAU \tAUS \t036\n",
      "Austria \tAT \tAUT \t040\n",
      "Azerbaijan \tAZ \tAZE \t031\n",
      "Bahamas (the) \tBS \tBHS \t044\n",
      "Bahrain \tBH \tBHR \t048\n",
      "Bangladesh \tBD \tBGD \t050\n",
      "Barbados \tBB \tBRB \t052\n",
      "Belarus \tBY \tBLR \t112\n",
      "Belgium \tBE \tBEL \t056\n",
      "Belize \tBZ \tBLZ \t084\n",
      "Benin \tBJ \tBEN \t204\n",
      "Bermuda \tBM \tBMU \t060\n",
      "Bhutan \tBT \tBTN \t064\n",
      "Bolivia (Plurinational State of) \tBO \tBOL \t068\n",
      "Bonaire, Sint Eustatius and Saba \tBQ \tBES \t535\n",
      "Bosnia and Herzegovina \tBA \tBIH \t070\n",
      "Botswana \tBW \tBWA \t072\n",
      "Bouvet Island \tBV \tBVT \t074\n",
      "Brazil \tBR \tBRA \t076\n",
      "British Indian Ocean Territory (the) \tIO \tIOT \t086\n",
      "Brunei Darussalam \tBN \tBRN \t096\n",
      "Bulgaria \tBG \tBGR \t100\n",
      "Burkina Faso \tBF \tBFA \t854\n",
      "Burundi \tBI \tBDI \t108\n",
      "Cabo Verde \tCV \tCPV \t132\n",
      "Cambodia \tKH \tKHM \t116\n",
      "Cameroon \tCM \tCMR \t120\n",
      "Canada \tCA \tCAN \t124\n",
      "Cayman Islands (the) \tKY \tCYM \t136\n",
      "Central African Republic (the) \tCF \tCAF \t140\n",
      "Chad \tTD \tTCD \t148\n",
      "Chile \tCL \tCHL \t152\n",
      "China \tCN \tCHN \t156\n",
      "Christmas Island \tCX \tCXR \t162\n",
      "Cocos (Keeling) Islands (the) \tCC \tCCK \t166\n",
      "Colombia \tCO \tCOL \t170\n",
      "Comoros (the) \tKM \tCOM \t174\n",
      "Congo (the Democratic Republic of the) \tCD \tCOD \t180\n",
      "Congo (the) \tCG \tCOG \t178\n",
      "Cook Islands (the) \tCK \tCOK \t184\n",
      "Costa Rica \tCR \tCRI \t188\n",
      "Croatia \tHR \tHRV \t191\n",
      "Cuba \tCU \tCUB \t192\n",
      "CuraÃ§ao \tCW \tCUW \t531\n",
      "Cyprus \tCY \tCYP \t196\n",
      "Czechia \tCZ \tCZE \t203\n",
      "CÃ´te d'Ivoire \tCI \tCIV \t384\n",
      "Denmark \tDK \tDNK \t208\n",
      "Djibouti \tDJ \tDJI \t262\n",
      "Dominica \tDM \tDMA \t212\n",
      "Dominican Republic (the) \tDO \tDOM \t214\n",
      "Ecuador \tEC \tECU \t218\n",
      "Egypt \tEG \tEGY \t818\n",
      "El Salvador \tSV \tSLV \t222\n",
      "Equatorial Guinea \tGQ \tGNQ \t226\n",
      "Eritrea \tER \tERI \t232\n",
      "Estonia \tEE \tEST \t233\n",
      "Eswatini \tSZ \tSWZ \t748\n",
      "Ethiopia \tET \tETH \t231\n",
      "Falkland Islands (the) [Malvinas] \tFK \tFLK \t238\n",
      "Faroe Islands (the) \tFO \tFRO \t234\n",
      "Fiji \tFJ \tFJI \t242\n",
      "Finland \tFI \tFIN \t246\n",
      "France \tFR \tFRA \t250\n",
      "French Guiana \tGF \tGUF \t254\n",
      "French Polynesia \tPF \tPYF \t258\n",
      "French Southern Territories (the) \tTF \tATF \t260\n",
      "Gabon \tGA \tGAB \t266\n",
      "Gambia (the) \tGM \tGMB \t270\n",
      "Georgia \tGE \tGEO \t268\n",
      "Germany \tDE \tDEU \t276\n",
      "Ghana \tGH \tGHA \t288\n",
      "Gibraltar \tGI \tGIB \t292\n",
      "Greece \tGR \tGRC \t300\n",
      "Greenland \tGL \tGRL \t304\n",
      "Grenada \tGD \tGRD \t308\n",
      "Guadeloupe \tGP \tGLP \t312\n",
      "Guam \tGU \tGUM \t316\n",
      "Guatemala \tGT \tGTM \t320\n",
      "Guernsey \tGG \tGGY \t831\n",
      "Guinea \tGN \tGIN \t324\n",
      "Guinea-Bissau \tGW \tGNB \t624\n",
      "Guyana \tGY \tGUY \t328\n",
      "Haiti \tHT \tHTI \t332\n",
      "Heard Island and McDonald Islands \tHM \tHMD \t334\n",
      "Holy See (the) \tVA \tVAT \t336\n",
      "Honduras \tHN \tHND \t340\n",
      "Hong Kong \tHK \tHKG \t344\n",
      "Hungary \tHU \tHUN \t348\n",
      "Iceland \tIS \tISL \t352\n",
      "India \tIN \tIND \t356\n",
      "Indonesia \tID \tIDN \t360\n",
      "Iran (Islamic Republic of) \tIR \tIRN \t364\n",
      "Iraq \tIQ \tIRQ \t368\n",
      "Ireland \tIE \tIRL \t372\n",
      "Isle of Man \tIM \tIMN \t833\n",
      "Israel \tIL \tISR \t376\n",
      "Italy \tIT \tITA \t380\n",
      "Jamaica \tJM \tJAM \t388\n",
      "Japan \tJP \tJPN \t392\n",
      "Jersey \tJE \tJEY \t832\n",
      "Jordan \tJO \tJOR \t400\n",
      "Kazakhstan \tKZ \tKAZ \t398\n",
      "Kenya \tKE \tKEN \t404\n",
      "Kiribati \tKI \tKIR \t296\n",
      "Korea (the Democratic People's Republic of) \tKP \tPRK \t408\n",
      "Korea (the Republic of) \tKR \tKOR \t410\n",
      "Kuwait \tKW \tKWT \t414\n",
      "Kyrgyzstan \tKG \tKGZ \t417\n",
      "Lao People's Democratic Republic (the) \tLA \tLAO \t418\n",
      "Latvia \tLV \tLVA \t428\n",
      "Lebanon \tLB \tLBN \t422\n",
      "Lesotho \tLS \tLSO \t426\n",
      "Liberia \tLR \tLBR \t430\n",
      "Libya \tLY \tLBY \t434\n",
      "Liechtenstein \tLI \tLIE \t438\n",
      "Lithuania \tLT \tLTU \t440\n",
      "Luxembourg \tLU \tLUX \t442\n",
      "Macao \tMO \tMAC \t446\n",
      "Madagascar \tMG \tMDG \t450\n",
      "Malawi \tMW \tMWI \t454\n",
      "Malaysia \tMY \tMYS \t458\n",
      "Maldives \tMV \tMDV \t462\n",
      "Mali \tML \tMLI \t466\n",
      "Malta \tMT \tMLT \t470\n",
      "Marshall Islands (the) \tMH \tMHL \t584\n",
      "Martinique \tMQ \tMTQ \t474\n",
      "Mauritania \tMR \tMRT \t478\n",
      "Mauritius \tMU \tMUS \t480\n",
      "Mayotte \tYT \tMYT \t175\n",
      "Mexico \tMX \tMEX \t484\n",
      "Micronesia (Federated States of) \tFM \tFSM \t583\n",
      "Moldova (the Republic of) \tMD \tMDA \t498\n",
      "Monaco \tMC \tMCO \t492\n",
      "Mongolia \tMN \tMNG \t496\n",
      "Montenegro \tME \tMNE \t499\n",
      "Montserrat \tMS \tMSR \t500\n",
      "Morocco \tMA \tMAR \t504\n",
      "Mozambique \tMZ \tMOZ \t508\n",
      "Myanmar \tMM \tMMR \t104\n",
      "Namibia \tNA \tNAM \t516\n",
      "Nauru \tNR \tNRU \t520\n",
      "Nepal \tNP \tNPL \t524\n",
      "Netherlands (the) \tNL \tNLD \t528\n",
      "New Caledonia \tNC \tNCL \t540\n",
      "New Zealand \tNZ \tNZL \t554\n",
      "Nicaragua \tNI \tNIC \t558\n",
      "Niger (the) \tNE \tNER \t562\n",
      "Nigeria \tNG \tNGA \t566\n",
      "Niue \tNU \tNIU \t570\n",
      "Norfolk Island \tNF \tNFK \t574\n",
      "Northern Mariana Islands (the) \tMP \tMNP \t580\n",
      "Norway \tNO \tNOR \t578\n",
      "Oman \tOM \tOMN \t512\n",
      "Pakistan \tPK \tPAK \t586\n",
      "Palau \tPW \tPLW \t585\n",
      "Palestine, State of \tPS \tPSE \t275\n",
      "Panama \tPA \tPAN \t591\n",
      "Papua New Guinea \tPG \tPNG \t598\n",
      "Paraguay \tPY \tPRY \t600\n",
      "Peru \tPE \tPER \t604\n",
      "Philippines (the) \tPH \tPHL \t608\n",
      "Pitcairn \tPN \tPCN \t612\n",
      "Poland \tPL \tPOL \t616\n",
      "Portugal \tPT \tPRT \t620\n",
      "Puerto Rico \tPR \tPRI \t630\n",
      "Qatar \tQA \tQAT \t634\n",
      "Republic of North Macedonia \tMK \tMKD \t807\n",
      "Romania \tRO \tROU \t642\n",
      "Russian Federation (the) \tRU \tRUS \t643\n",
      "Rwanda \tRW \tRWA \t646\n",
      "RÃ©union \tRE \tREU \t638\n",
      "Saint BarthÃ©lemy \tBL \tBLM \t652\n",
      "Saint Helena, Ascension and Tristan da Cunha \tSH \tSHN \t654\n",
      "Saint Kitts and Nevis \tKN \tKNA \t659\n",
      "Saint Lucia \tLC \tLCA \t662\n",
      "Saint Martin (French part) \tMF \tMAF \t663\n",
      "Saint Pierre and Miquelon \tPM \tSPM \t666\n",
      "Saint Vincent and the Grenadines \tVC \tVCT \t670\n",
      "Samoa \tWS \tWSM \t882\n",
      "San Marino \tSM \tSMR \t674\n",
      "Sao Tome and Principe \tST \tSTP \t678\n",
      "Saudi Arabia \tSA \tSAU \t682\n",
      "Senegal \tSN \tSEN \t686\n",
      "Serbia \tRS \tSRB \t688\n",
      "Seychelles \tSC \tSYC \t690\n",
      "Sierra Leone \tSL \tSLE \t694\n",
      "Singapore \tSG \tSGP \t702\n",
      "Sint Maarten (Dutch part) \tSX \tSXM \t534\n",
      "Slovakia \tSK \tSVK \t703\n",
      "Slovenia \tSI \tSVN \t705\n",
      "Solomon Islands \tSB \tSLB \t090\n",
      "Somalia \tSO \tSOM \t706\n",
      "South Africa \tZA \tZAF \t710\n",
      "South Georgia and the South Sandwich Islands \tGS \tSGS \t239\n",
      "South Sudan \tSS \tSSD \t728\n",
      "Spain \tES \tESP \t724\n",
      "Sri Lanka \tLK \tLKA \t144\n",
      "Sudan (the) \tSD \tSDN \t729\n",
      "Suriname \tSR \tSUR \t740\n",
      "Svalbard and Jan Mayen \tSJ \tSJM \t744\n",
      "Sweden \tSE \tSWE \t752\n",
      "Switzerland \tCH \tCHE \t756\n",
      "Syrian Arab Republic \tSY \tSYR \t760\n",
      "Taiwan (Province of China) \tTW \tTWN \t158\n",
      "Tajikistan \tTJ \tTJK \t762\n",
      "Tanzania, United Republic of \tTZ \tTZA \t834\n",
      "Thailand \tTH \tTHA \t764\n",
      "Timor-Leste \tTL \tTLS \t626\n",
      "Togo \tTG \tTGO \t768\n",
      "Tokelau \tTK \tTKL \t772\n",
      "Tonga \tTO \tTON \t776\n",
      "Trinidad and Tobago \tTT \tTTO \t780\n",
      "Tunisia \tTN \tTUN \t788\n",
      "Turkey \tTR \tTUR \t792\n",
      "Turkmenistan \tTM \tTKM \t795\n",
      "Turks and Caicos Islands (the) \tTC \tTCA \t796\n",
      "Tuvalu \tTV \tTUV \t798\n",
      "Uganda \tUG \tUGA \t800\n",
      "Ukraine \tUA \tUKR \t804\n",
      "United Arab Emirates (the) \tAE \tARE \t784\n",
      "United Kingdom of Great Britain and Northern Ireland (the) \tGB \tGBR \t826\n",
      "United States Minor Outlying Islands (the) \tUM \tUMI \t581\n",
      "United States of America (the) \tUS \tUSA \t840\n",
      "Uruguay \tUY \tURY \t858\n",
      "Uzbekistan \tUZ \tUZB \t860\n",
      "Vanuatu \tVU \tVUT \t548\n",
      "Venezuela (Bolivarian Republic of) \tVE \tVEN \t862\n",
      "Viet Nam \tVN \tVNM \t704\n",
      "Virgin Islands (British) \tVG \tVGB \t092\n",
      "Virgin Islands (U.S.) \tVI \tVIR \t850\n",
      "Wallis and Futuna \tWF \tWLF \t876\n",
      "Western Sahara \tEH \tESH \t732\n",
      "Yemen \tYE \tYEM \t887\n",
      "Zambia \tZM \tZMB \t894\n",
      "Zimbabwe \tZW \tZWE \t716\n",
      "Ã…land Islands \tAX \tALA \t248\n"
     ]
    }
   ],
   "source": [
    "# 1.A: def print_file_content(file) that can print content of a csv file to the console\n",
    "from modules import ex02\n",
    "ex02.print_file_content('./data/country_codes.csv')"
   ]
  },
  {
   "cell_type": "code",
   "execution_count": 4,
   "metadata": {},
   "outputs": [],
   "source": [
    "# 1.B: def write_list_to_file(output_file, lst) that can take a list of tuple and write each element to a new line in file\n",
    "#rewrite the function so that it gets an arbitrary number of strings instead of a list\n",
    "from modules import ex02\n",
    "ex02.write_list_to_file('./output.txt', 'String 1', 'String 2', 'String 3')"
   ]
  },
  {
   "cell_type": "code",
   "execution_count": 5,
   "metadata": {},
   "outputs": [],
   "source": [
    "# 1.C see modules/ex02.py"
   ]
  },
  {
   "cell_type": "markdown",
   "metadata": {},
   "source": [
    "## 02 Solution Exercise 2"
   ]
  },
  {
   "cell_type": "code",
   "execution_count": 1,
   "metadata": {
    "collapsed": true
   },
   "outputs": [
    {
     "name": "stdout",
     "output_type": "stream",
     "text": [
      "output.txt\n",
      "README.md\n",
      "requirements.txt\n",
      "Week_2.ipynb\n",
      "config\n",
      "description\n",
      "HEAD\n",
      "index\n",
      "packed-refs\n",
      "applypatch-msg.sample\n",
      "commit-msg.sample\n",
      "fsmonitor-watchman.sample\n",
      "post-update.sample\n",
      "pre-applypatch.sample\n",
      "pre-commit.sample\n",
      "pre-push.sample\n",
      "pre-rebase.sample\n",
      "pre-receive.sample\n",
      "prepare-commit-msg.sample\n",
      "update.sample\n",
      "exclude\n",
      "HEAD\n",
      "main\n",
      "HEAD\n",
      "30a90937f026e7ede719976dbdf822ae735f0c\n",
      "f27e86d351ae56375e3a44153fba5616af6b63\n",
      "a8043f98842cb91568a6d1150c3aed673b0af2\n",
      "bbd281c990c5456312e1b34c6a2409d0550f60\n",
      "eeb5b215c671ea67a797e8b44153ad1ec9a7b6\n",
      "248deeda75524cbbad083c5481090355251995\n",
      "8de8aba9afe6124cea2b1be20638a6007479d9\n",
      "cbbd6b34b6594f0a3c2b97d4bec5bdcff14c45\n",
      "2f9d01aa6ee3322c8de810270556aa1f23f28a\n",
      "55ad63416458e8184dac19f0259df93ad9aa93\n",
      "85cfd6c6b661eaf1b34896e775699647d29f87\n",
      "645091159a328f9b5f815a5734c9ae05e1fb85\n",
      "b16a5a05cbdb3cfb75e70144d7a5e436a15f0c\n",
      "main\n",
      "HEAD\n",
      "Week_1-checkpoint.ipynb\n",
      "Week_2-checkpoint.ipynb\n",
      "Week_3-checkpoint.ipynb\n",
      "country_codes.csv\n",
      "ex02.py\n",
      "utils.py\n",
      "__init__.py\n",
      "ex02.cpython-38.pyc\n",
      "utils.cpython-38.pyc\n",
      "__init__.cpython-38.pyc\n"
     ]
    }
   ],
   "source": [
    "# def get_file_names(folderpath,out=output.txt):\n",
    "from modules import utils\n",
    "utils.get_file_names('./')"
   ]
  },
  {
   "cell_type": "code",
   "execution_count": 2,
   "metadata": {},
   "outputs": [
    {
     "name": "stdout",
     "output_type": "stream",
     "text": [
      "['output.txt', 'output_md.txt', 'README.md', 'requirements.txt', 'Week_2.ipynb', 'COMMIT_EDITMSG', 'config', 'description', 'HEAD', 'index', 'packed-refs', 'applypatch-msg.sample', 'commit-msg.sample', 'fsmonitor-watchman.sample', 'post-update.sample', 'pre-applypatch.sample', 'pre-commit.sample', 'pre-push.sample', 'pre-rebase.sample', 'pre-receive.sample', 'prepare-commit-msg.sample', 'update.sample', 'exclude', 'HEAD', 'main', 'HEAD', 'main', 'ce71c678358f768f46d05fb499ca53634b9bc2', '8194e32cb111b8a876473e42b254ac7292dd08', '30a90937f026e7ede719976dbdf822ae735f0c', '2ad3c1ef811fc57efe00530d3dc49aa61b3328', 'f27e86d351ae56375e3a44153fba5616af6b63', 'a8043f98842cb91568a6d1150c3aed673b0af2', '94180756ae264a4145047d577b00a57dfeed91', 'bbd281c990c5456312e1b34c6a2409d0550f60', '27e72e3ce6324ea6e2d25a28ca587869294973', '6ea2e19694d0a8f774c6a43f0b86b12ffa87a6', '510353a644cb0c6e6c196259d31d23853fe791', '1592b822f31252b2d6befca815a3698be7d1d0', 'a7d915f8c04d5e5b7288ff861da25c3335e2a4', 'b0fee8a61c8e63a6a110c8866f26d03be1fbd0', 'eeb5b215c671ea67a797e8b44153ad1ec9a7b6', '2c14ed53865b04d27ad7fa4771338ecba41a4e', '248deeda75524cbbad083c5481090355251995', '8de8aba9afe6124cea2b1be20638a6007479d9', 'cbbd6b34b6594f0a3c2b97d4bec5bdcff14c45', '2f9d01aa6ee3322c8de810270556aa1f23f28a', '55ad63416458e8184dac19f0259df93ad9aa93', '180a1741b96b7d58fed5af6c6bbf8c531f285b', '8058ea2256d278d399b72a1d262e45e6964003', '85cfd6c6b661eaf1b34896e775699647d29f87', '479a402e84f7ee1d807c8e05b23b56e472595b', '5f72b88d7dec54bcc27fe92339023bfd98eb4b', '645091159a328f9b5f815a5734c9ae05e1fb85', 'b16a5a05cbdb3cfb75e70144d7a5e436a15f0c', '2f2c09355c789df1d4cbfec524aa95199da88c', 'main', 'HEAD', 'main', 'Week_1-checkpoint.ipynb', 'Week_2-checkpoint.ipynb', 'Week_3-checkpoint.ipynb', 'country_codes.csv', 'ex02.py', 'utils.py', '__init__.py', 'ex02.cpython-38.pyc', 'utils.cpython-38.pyc', '__init__.cpython-38.pyc']\n"
     ]
    }
   ],
   "source": [
    "# def get_all_file_names(folderpath,out=output.txt):\n",
    "from modules import utils\n",
    "utils.get_all_file_names('./')"
   ]
  },
  {
   "cell_type": "code",
   "execution_count": 3,
   "metadata": {
    "collapsed": true
   },
   "outputs": [
    {
     "name": "stdout",
     "output_type": "stream",
     "text": [
      "output.txt\n",
      "\n",
      "Afghanistan \tAF \tAFG \t004\n",
      "\n"
     ]
    }
   ],
   "source": [
    "# def get_all_file_names(folderpath,out=output.txt):\n",
    "from modules import utils\n",
    "utils.print_line_one('./output.txt', './data/country_codes.csv')"
   ]
  },
  {
   "cell_type": "code",
   "execution_count": 1,
   "metadata": {},
   "outputs": [
    {
     "name": "stdout",
     "output_type": "stream",
     "text": [
      "my@email.com\n"
     ]
    }
   ],
   "source": [
    "# def print_emails(file_names):\n",
    "from modules import utils\n",
    "utils.print_emails('./output.txt')"
   ]
  },
  {
   "cell_type": "code",
   "execution_count": 3,
   "metadata": {},
   "outputs": [],
   "source": [
    "#def write_headlines(md_files, out=output.txt):\n",
    "from modules import utils\n",
    "utils.write_headlines('./README.md')"
   ]
  }
 ],
 "metadata": {
  "kernelspec": {
   "display_name": "Python 3",
   "language": "python",
   "name": "python3"
  },
  "language_info": {
   "codemirror_mode": {
    "name": "ipython",
    "version": 3
   },
   "file_extension": ".py",
   "mimetype": "text/x-python",
   "name": "python",
   "nbconvert_exporter": "python",
   "pygments_lexer": "ipython3",
   "version": "3.8.5"
  }
 },
 "nbformat": 4,
 "nbformat_minor": 4
}
